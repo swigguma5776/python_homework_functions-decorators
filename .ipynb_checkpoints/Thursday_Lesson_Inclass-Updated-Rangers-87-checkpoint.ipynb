{
 "cells": [
  {
   "cell_type": "markdown",
   "metadata": {},
   "source": [
    "# User-Defined Functions, Scoping & Decorators"
   ]
  },
  {
   "cell_type": "markdown",
   "metadata": {},
   "source": [
    "## Tasks Today:\n",
    "\n",
    "\n",
    "1) Functions <br>\n",
    " &nbsp;&nbsp;&nbsp;&nbsp; a) User-Defined vs. Built-In Functions <br>\n",
    " &nbsp;&nbsp;&nbsp;&nbsp; b) Accepting Parameters <br>\n",
    " &nbsp;&nbsp;&nbsp;&nbsp; c) Default Parameters <br>\n",
    " &nbsp;&nbsp;&nbsp;&nbsp; d) Making an Argument Optional <br>\n",
    " &nbsp;&nbsp;&nbsp;&nbsp; e) Keyword Arguments <br>\n",
    " &nbsp;&nbsp;&nbsp;&nbsp; f) Returning Values <br>\n",
    " &nbsp;&nbsp;&nbsp;&nbsp; g) *args <br>\n",
    " &nbsp;&nbsp;&nbsp;&nbsp; h) Docstring <br>\n",
    " &nbsp;&nbsp;&nbsp;&nbsp; i) Using a User Function in a Loop <br>\n",
    "2) Scope <br>\n",
    "3) Creating more User-Defined functions <br>\n",
    "4) Decorators <br>"
   ]
  },
  {
   "cell_type": "markdown",
   "metadata": {},
   "source": [
    "\n",
    "## Functions"
   ]
  },
  {
   "cell_type": "markdown",
   "metadata": {},
   "source": [
    "#### White Board Question"
   ]
  },
  {
   "cell_type": "code",
   "execution_count": null,
   "metadata": {},
   "outputs": [],
   "source": [
    "# Fizz Buzz \n",
    "# Given a random number as an input to a function, return \"FIZZ\" if the number is even \n",
    "# and \"BUZZ\" if the number is odd\n",
    "\n",
    "def fizz_buzz():\n",
    "    x = int(input(\"Give us a number. \"))\n",
    "    if x > 0:\n",
    "        if x % 2 == 0:\n",
    "            return \"FIZZ\"\n",
    "        if x % 2 == 1:\n",
    "            return \"BUZZ\"\n",
    "    else:\n",
    "        return \"Put in a positive number\"\n",
    "    \n",
    "# fizz_buzz()\n",
    "\n",
    "# Find Even numbers\n",
    "# Create a function that, given a list as a parameter, finds the even numbers inside the list. The function should then return a list.\n",
    "# Example:\n",
    "# Input: [2, 7, 10, 11, 12]\n",
    "# Output: [2, 10, 12]\n",
    "\n",
    "def even_num(a_list):\n",
    "    even_list = [x for x in a_list if x % 2 == 0]\n",
    "    return even_list\n",
    "   \n",
    "    \n",
    "a_list = [1, 3, 6, 8, 9, 10]\n",
    "even_num(a_list)"
   ]
  },
  {
   "cell_type": "markdown",
   "metadata": {},
   "source": [
    "##### User-Defined vs. Built-In Functions"
   ]
  },
  {
   "cell_type": "code",
   "execution_count": null,
   "metadata": {},
   "outputs": [],
   "source": [
    "# Built-in Function\n",
    "print(\"Hello\")\n",
    "\n",
    "# User-Defined Function\n",
    "def say_hello():\n",
    "    return \"Hello World\"\n",
    "\n",
    "#Show the function in memory\n",
    "print(say_hello)\n",
    "\n",
    "#Calling a function, need the () at the end\n",
    "\n",
    "say_hello()"
   ]
  },
  {
   "cell_type": "markdown",
   "metadata": {},
   "source": [
    "##### Accepting Parameters"
   ]
  },
  {
   "cell_type": "code",
   "execution_count": null,
   "metadata": {
    "scrolled": true
   },
   "outputs": [],
   "source": [
    "# Order matters\n",
    "# a variable (paramter) can be any type of object \n",
    "\n",
    "first = \"Alex\"\n",
    "last = \"Swiggum\"\n",
    "\n",
    "def print_full_name(first_name, last_name):\n",
    "    return f\"My full name is {first_name} {last_name}!\"\n",
    "\n",
    "print_full_name(first,last)"
   ]
  },
  {
   "cell_type": "markdown",
   "metadata": {},
   "source": [
    "##### Default Parameters"
   ]
  },
  {
   "cell_type": "code",
   "execution_count": null,
   "metadata": {},
   "outputs": [],
   "source": [
    "# Default parameters must come after non-default parameters at all times\n",
    "def agent_name(first_name, last_name = 'Bond'): \n",
    "    return f\"The name is {last_name}....{first_name} {last_name}.\"\n",
    "\n",
    "print(agent_name(\"James\"))\n",
    "print(agent_name(\"James\", \"Swiggum\")) #only changes the function for this instance, not permanently \n",
    "\n",
    "# Don't do this! \n",
    "# def agent_name_again(last_name = \"Bond\", first_name):\n",
    "#     return f\"The name is {last_name}....{first_name} {last_name}.\"\n",
    "\n",
    "# print(agent_name_again(, \"James\"))\n"
   ]
  },
  {
   "cell_type": "code",
   "execution_count": null,
   "metadata": {},
   "outputs": [],
   "source": [
    "def march_bday(day, year, month = \"March\"):\n",
    "    return f\"Your birthday is the {day}th, {month} of {year}\"\n",
    "\n",
    "print(march_bday(11, 1991))\n",
    "print(march_bday(11, 1991, \"September\"))"
   ]
  },
  {
   "cell_type": "markdown",
   "metadata": {},
   "source": [
    "##### Making an Argument Optional"
   ]
  },
  {
   "cell_type": "code",
   "execution_count": null,
   "metadata": {},
   "outputs": [],
   "source": [
    "def horse_name(first, middle='', last='Ed'):\n",
    "    return f\" Hello {first} {middle} {last}\"\n",
    "\n",
    "print(horse_name(\"Mr\"))\n",
    "print(horse_name(\"Mr\", \"Sea\"))"
   ]
  },
  {
   "cell_type": "markdown",
   "metadata": {},
   "source": [
    "##### Keyword Arguments"
   ]
  },
  {
   "cell_type": "code",
   "execution_count": null,
   "metadata": {},
   "outputs": [],
   "source": [
    "# you can access an argument out of order by using it's \"keyword\"\n",
    "def hero(name, power = \"flying\"):\n",
    "    return f\"{name}'s power is {power}.\"\n",
    "\n",
    "print(hero(power = 'money', name = 'Bruce'))"
   ]
  },
  {
   "cell_type": "markdown",
   "metadata": {},
   "source": [
    "#### Create a function (or two) that accepts positional, default, and option arguments..."
   ]
  },
  {
   "cell_type": "code",
   "execution_count": null,
   "metadata": {},
   "outputs": [],
   "source": [
    "def silly_sentence(noun, verb = '', adjective ='silly'):\n",
    "    return f\"The {adjective} {noun} {verb}.\"\n",
    "\n",
    "print(silly_sentence('baby'))\n",
    "print(silly_sentence('monkey','flew'))\n",
    "print(silly_sentence(adjective = \"stupid\", noun =\"bird\"))\n",
    "\n",
    "def investments(amount, name = '', year = '2000'):\n",
    "    investment_return = amount * 7\n",
    "    return f\"{name} invested {amount} in {year} and will get a return of ${investment_return}.\"\n",
    "\n",
    "print(investments(20))\n",
    "    "
   ]
  },
  {
   "cell_type": "markdown",
   "metadata": {},
   "source": [
    "# Creating a start, stop, step function"
   ]
  },
  {
   "cell_type": "code",
   "execution_count": null,
   "metadata": {},
   "outputs": [],
   "source": [
    "def my_range(stop, start = 0, step =1):\n",
    "    for i in range(start,stop,step):\n",
    "        print(i)\n",
    "        \n",
    "my_range(13, 2, 3)"
   ]
  },
  {
   "cell_type": "markdown",
   "metadata": {},
   "source": [
    "##### Returning Values"
   ]
  },
  {
   "cell_type": "code",
   "execution_count": null,
   "metadata": {},
   "outputs": [],
   "source": [
    "def add_nums(num1, num2):\n",
    "    return num1 + num2\n",
    "\n",
    "add_nums(3,6)"
   ]
  },
  {
   "cell_type": "markdown",
   "metadata": {},
   "source": [
    "##### **args / ***kwargs (keyword arguments)"
   ]
  },
  {
   "cell_type": "code",
   "execution_count": null,
   "metadata": {},
   "outputs": [],
   "source": [
    "# args are referenced with a * = *args\n",
    "# kwargs are referenced with a ** = **kwargs\n",
    "\n",
    "def pirates(num1, *args, **kwargs):\n",
    "    print(num1)\n",
    "    print(args)\n",
    "    print(kwargs)\n",
    "    \n",
    "pirates(1,10,\"megazord\",trekies = ['Warf', 'Data'], subject = 'Python')"
   ]
  },
  {
   "cell_type": "code",
   "execution_count": null,
   "metadata": {},
   "outputs": [],
   "source": [
    "# Write a function that accepts args and kwards and print out each arg & kwarg on own line\n",
    "\n",
    "def pizza(*sizes, **toppings):\n",
    "    for size in sizes:\n",
    "        print(f\"Your pizza is {size} inches\")\n",
    "    for top, item in toppings.items():\n",
    "        print(f\"Your pizza toppings are: {item}\")\n",
    "\n",
    "\n",
    "pizza(12, 14, 16, toppings = [\"mushrooms\", \"pepperoni\", \"olives\"])"
   ]
  },
  {
   "cell_type": "markdown",
   "metadata": {},
   "source": [
    "##### Docstring"
   ]
  },
  {
   "cell_type": "code",
   "execution_count": null,
   "metadata": {},
   "outputs": [],
   "source": [
    "def print_names(list_1):\n",
    "    \"\"\"\n",
    "        print_names(list_1)\n",
    "        Function requires a list to be passed as a parameter\n",
    "        and will print the contents of the list. Expecting\n",
    "        a list of names(strings) to be passed.\n",
    "    \"\"\"\n",
    "    \n",
    "    for name in list_1:\n",
    "        print(name)\n",
    "        \n",
    "print_names(['Sylvester', 'Tweety'])"
   ]
  },
  {
   "cell_type": "markdown",
   "metadata": {},
   "source": [
    "##### Using a User Function in a Loop"
   ]
  },
  {
   "cell_type": "code",
   "execution_count": null,
   "metadata": {},
   "outputs": [],
   "source": [
    "def print_input(answer):\n",
    "    print(f\"your answer is : {answer}\")\n",
    "    \n",
    "while True:\n",
    "    ask = input(\"What do you want to do\")\n",
    "    \n",
    "    print_input(ask)\n",
    "    \n",
    "    response = input(\"Ready to quit? \")\n",
    "    if response.lower() == 'yes':\n",
    "        break \n",
    "    \n"
   ]
  },
  {
   "cell_type": "markdown",
   "metadata": {},
   "source": [
    "## Function Exercises <br>\n",
    "### Exercise 1\n",
    "<p>Write a function that loops through a list of first_names and a list of last_names, combines the two and return a list of full_names</p>"
   ]
  },
  {
   "cell_type": "code",
   "execution_count": null,
   "metadata": {},
   "outputs": [],
   "source": [
    "first_name = ['John', 'Evan', 'Jordan', 'Max']\n",
    "last_name = ['Smith', 'Smith', 'Williams', 'Bell']\n",
    "\n",
    "# Output: ['John Smith', 'Evan Smith', 'Jordan Williams', 'Max Bell']\n",
    "\n",
    "def full_names(first_name, last_name):\n",
    "    \n",
    "    full_names = []\n",
    "    while first_name and last_name:\n",
    "        first_half = first_name.pop()\n",
    "        last_half = last_name.pop()\n",
    "        \n",
    "        combined_names = first_half + \" \" + last_half\n",
    "        full_names.append(combined_names)\n",
    "        \n",
    "    \n",
    "    print(full_names)\n",
    "#     return [first_name[i] + \" \" + last_name[i] for i in range(len(first_name))]\n",
    "#     list_of_names: []\n",
    "#     for i in range(len(first_name)):\n",
    "# #         full_name = first_name[i] + \" \" + last_name[i]  \n",
    "# #         list_of_names.append(full_name)\n",
    "#     print(list_of_names)\n",
    "    \n",
    "    \n",
    "full_names(first_name, last_name)"
   ]
  },
  {
   "cell_type": "markdown",
   "metadata": {},
   "source": [
    "### Exercise 2\n",
    "Create a function that alters all values in the given list by subtracting 5 and then doubling them."
   ]
  },
  {
   "cell_type": "code",
   "execution_count": null,
   "metadata": {},
   "outputs": [],
   "source": [
    "input_list = [5,10,15,20,3]\n",
    "# output = [0,10,20,30,-4]\n",
    "\n",
    "def alter_list(list):\n",
    "    \n",
    "    return [(x-5)*2 for x in input_list]\n",
    "\n",
    "alter_list(input_list)"
   ]
  },
  {
   "cell_type": "markdown",
   "metadata": {},
   "source": [
    "### Exercise 2\n",
    "Create a function that alters all values in the given list with a section function taken as a parameter. "
   ]
  },
  {
   "cell_type": "code",
   "execution_count": null,
   "metadata": {},
   "outputs": [],
   "source": [
    "input_list = [5,10,15,20,3]\n",
    "# output = [0,10,20,30,-4]\n",
    "\n",
    "def funct(value):\n",
    "    return value ** 2\n",
    "\n",
    "def list_item_funct(list, function):\n",
    "    \n",
    "    return [function(x) for x in list]\n",
    "    \n",
    "\n",
    "list_item_funct(input_list, funct) #funct is an actual FUNCTION as is being taken as a parameter"
   ]
  },
  {
   "cell_type": "markdown",
   "metadata": {},
   "source": [
    "### Exercise 3\n",
    "Create a function that takes in a list of strings and filters out the strings that DO NOT contain vowels. "
   ]
  },
  {
   "cell_type": "code",
   "execution_count": null,
   "metadata": {},
   "outputs": [],
   "source": [
    "string_list = ['Sheldon','Pnny','Leonard','Hwrd','Rj','Amy','Strt']\n",
    "# output = ['Sheldon','Leonard','Amy']\n",
    "        \n",
    "def no_vowels(list):\n",
    "    \n",
    "    new_list = []\n",
    "#     while string_list:\n",
    "    for name in string_list:\n",
    "        new_list = [name for name in string_list if \"a\" in name.lower() or \"e\" in name.lower() or \"i\" in name.lower()]\n",
    "\n",
    "#         if \"a\" in name.lower():\n",
    "#             new_list.append(name)\n",
    "#         elif \"e\" in name.lower():\n",
    "#             new_list.append(name)\n",
    "#         elif \"i\" in name.lower():\n",
    "#             new_list.append(name)\n",
    "#         elif \"o\" in name.lower():\n",
    "#             new_list.appen(name) \n",
    "                \n",
    "    print(set(new_list))\n",
    "            \n",
    "        \n",
    "no_vowels(string_list)"
   ]
  },
  {
   "cell_type": "markdown",
   "metadata": {},
   "source": [
    "### Exercise 4\n",
    "Create a function that accepts a list as a parameter and returns a dictionary containing the list items as it's keys, and the number of times they appear in the list as the values"
   ]
  },
  {
   "cell_type": "code",
   "execution_count": null,
   "metadata": {},
   "outputs": [],
   "source": [
    "example_list = [\"Harry\", 'Hermione','Harry','Ron','Dobby','Draco','Luna','Harry','Hermione','Ron','Ron','Ron','Harry']\n",
    "\n",
    "# output = {\n",
    "#     \"Harry\":3,\n",
    "#     \"Hermione\":2,\n",
    "#     \"Ron\":4,\n",
    "#     \"Dobby\":1,\n",
    "#     \"Draco\":1,\n",
    "#     \"Luna\": 1\n",
    "# }\n",
    "\n",
    "def name_count(a_list):\n",
    "    \n",
    "    name_count = {}\n",
    "    \n",
    "    for name in set(a_list):\n",
    "        name_count[name] = a_list.count(name)\n",
    "        \n",
    "#         if name in name_count.values():\n",
    "#             name_count[name] += 1\n",
    "#         else:\n",
    "#             name_count[name] = 1\n",
    "#         count = name.count()\n",
    "#         name_dict[name] = count\n",
    "        \n",
    "    print(name_count)\n",
    "    \n",
    "        \n",
    "name_count(example_list)\n",
    "\n"
   ]
  },
  {
   "cell_type": "markdown",
   "metadata": {},
   "source": [
    "\n",
    "\n",
    "## Scope <br>\n",
    "<p>Scope refers to the ability to access variables, different types of scope include:<br>a) Global<br>b) Function (local)<br>c) Class (local)</p>"
   ]
  },
  {
   "cell_type": "code",
   "execution_count": null,
   "metadata": {},
   "outputs": [],
   "source": [
    "# placement of variable declaration matters\n",
    "\n",
    "number = 3 # Global Variable\n",
    "\n",
    "def myFunc():\n",
    "    num_3 = 6 # Local Function Variable\n",
    "    return num_3\n",
    "\n",
    "print(number)\n",
    "return_num = myFunc()\n",
    "print(return_num)\n",
    "# print(num_3)"
   ]
  },
  {
   "cell_type": "markdown",
   "metadata": {},
   "source": [
    "#### Returning a Function from a Function"
   ]
  },
  {
   "cell_type": "code",
   "execution_count": null,
   "metadata": {},
   "outputs": [],
   "source": [
    "def outer_funct(text):\n",
    "    \n",
    "    def inner_funct():\n",
    "        return f\"inner_funct with added {text}\"\n",
    "    \n",
    "    return inner_funct\n",
    "\n",
    "var = outer_funct('message')\n",
    "print(var)\n",
    "var()\n"
   ]
  },
  {
   "cell_type": "markdown",
   "metadata": {},
   "source": [
    "#### Decorators\n",
    "\n",
    "<p>A decorator in Python is a function that takes another function as its argument, and returns yet another function . Decorators can be extremely useful as they allow the extension of an existing function, without any modification to the original function source code. </p>"
   ]
  },
  {
   "cell_type": "code",
   "execution_count": null,
   "metadata": {},
   "outputs": [],
   "source": [
    "def print_hello():\n",
    "    return \"Hello from the Rangers\"\n",
    "\n",
    "#Decorator function to upper case text\n",
    "def uppercase_decorator(function):\n",
    "    def wrapper():\n",
    "        func = function()\n",
    "        make_uppercase = func.upper()\n",
    "        return make_uppercase\n",
    "    \n",
    "    return wrapper\n",
    "\n",
    "\n",
    "returned_func = uppercase_decorator(print_hello)\n",
    "\n",
    "returned_func()"
   ]
  },
  {
   "cell_type": "code",
   "execution_count": null,
   "metadata": {},
   "outputs": [],
   "source": [
    "# Python Decorator Syntax\n",
    "@uppercase_decorator\n",
    "def say_hello():\n",
    "    return \"Hello there\"\n",
    "\n",
    "say_hello()"
   ]
  },
  {
   "cell_type": "markdown",
   "metadata": {},
   "source": [
    "# Homework Exercises"
   ]
  },
  {
   "cell_type": "markdown",
   "metadata": {},
   "source": [
    "## Exercise 1 <br>\n",
    "<p>Given a list as a parameter,write a function that returns a list of numbers that are less than ten</b></i></p><br>\n",
    "<p> For example: Say your input parameter to the function is [1,11,14,5,8,9]...Your output should [1,5,8,9]</p>"
   ]
  },
  {
   "cell_type": "code",
   "execution_count": 25,
   "metadata": {},
   "outputs": [
    {
     "data": {
      "text/plain": [
       "[1, 5, 8, 9]"
      ]
     },
     "execution_count": 25,
     "metadata": {},
     "output_type": "execute_result"
    }
   ],
   "source": [
    "# Use the following list - [1,11,14,5,8,9]\n",
    "\n",
    "l_1 = [1,11,14,5,8,9]\n",
    "\n",
    "def less_than(list):\n",
    "    \n",
    "    return [num for num in list if num < 10]\n",
    "\n",
    "    \n",
    "less_than(l_1)"
   ]
  },
  {
   "cell_type": "markdown",
   "metadata": {},
   "source": [
    "## Exercise 2 <br>\n",
    "<p>Write a function that takes in two lists and returns the two lists merged together and sorted<br>\n",
    "<b><i>Hint: You can use the .sort() method</i></b></p>"
   ]
  },
  {
   "cell_type": "code",
   "execution_count": null,
   "metadata": {},
   "outputs": [],
   "source": [
    "l_1 = [1,2,3,4,5,6]\n",
    "l_2 = [3,4,5,6,7,8,10]\n",
    "\n",
    "def sorted_list(a_list, b_list):\n",
    "    \n",
    "    merge_list = a_list + b_list\n",
    "    merge_list.sort()\n",
    "    return merge_list\n",
    "\n",
    "sorted_list(l_1, l_2)"
   ]
  },
  {
   "cell_type": "markdown",
   "metadata": {},
   "source": [
    "#### Q1: Create a function that returns the sum of the two lowest positive numbers given an array of minimum 4 positive integers. No floats or non-positive integers will be passed.\n",
    "\n",
    "\n",
    "example = [19, 5, 42, 2, 77]\n",
    "#output = 7"
   ]
  },
  {
   "cell_type": "code",
   "execution_count": 52,
   "metadata": {},
   "outputs": [
    {
     "data": {
      "text/plain": [
       "7"
      ]
     },
     "execution_count": 52,
     "metadata": {},
     "output_type": "execute_result"
    }
   ],
   "source": [
    "num_list = [19, 5, 42, 2, 77] \n",
    "\n",
    "def sum_lowest_num(list):\n",
    "    min_num1 = min(num_list)\n",
    "    num_list.remove(min_num1)\n",
    "\n",
    "    min_num2 = min(num_list)\n",
    "\n",
    "    return min_num1 + min_num2\n",
    "\n",
    "sum_lowest_num(num_list)"
   ]
  },
  {
   "cell_type": "markdown",
   "metadata": {},
   "source": [
    "#### Q2: Given an array of integers.Return an array, where the first element is the count of positives numbers and the second element is sum of negative numbers. 0 is neither positive nor negative.\n",
    "\n",
    "If the input array is empty or null, return an empty array.\n",
    "\n",
    "\n",
    "example_input = [1, 2, 3, 4, 5, 6, 7, 8, 9, 10, -11, -12, -13, -14, -15]\n",
    "output  = [10,-65]"
   ]
  },
  {
   "cell_type": "code",
   "execution_count": 50,
   "metadata": {},
   "outputs": [
    {
     "data": {
      "text/plain": [
       "[10, -65]"
      ]
     },
     "execution_count": 50,
     "metadata": {},
     "output_type": "execute_result"
    }
   ],
   "source": [
    "num_list = [1, 2, 3, 4, 5, 6, 7, 8, 9, 10, -11, -12, -13, -14, -15,]\n",
    "\n",
    "def pos_and_neg(list):\n",
    "    final_list = []\n",
    "\n",
    "    output_1 = [num for num in list if num > 0]\n",
    "    num_count = 0\n",
    "\n",
    "    for num in output_1:\n",
    "        num_count += output_1.count(num)\n",
    "\n",
    "    final_list.append(num_count)\n",
    "\n",
    "    output_2 = sum([num for num in list if num < 0])\n",
    "    final_list.append(output_2)\n",
    "\n",
    "\n",
    "    return final_list\n",
    "\n",
    "pos_and_neg(num_list)"
   ]
  },
  {
   "cell_type": "code",
   "execution_count": null,
   "metadata": {},
   "outputs": [],
   "source": []
  }
 ],
 "metadata": {
  "kernelspec": {
   "display_name": "Python 3 (ipykernel)",
   "language": "python",
   "name": "python3"
  },
  "language_info": {
   "codemirror_mode": {
    "name": "ipython",
    "version": 3
   },
   "file_extension": ".py",
   "mimetype": "text/x-python",
   "name": "python",
   "nbconvert_exporter": "python",
   "pygments_lexer": "ipython3",
   "version": "3.9.7"
  }
 },
 "nbformat": 4,
 "nbformat_minor": 2
}
